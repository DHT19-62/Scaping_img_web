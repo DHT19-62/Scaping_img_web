{
 "cells": [
  {
   "cell_type": "code",
   "execution_count": 787,
   "id": "2ca7483a-cc2a-4b04-a15a-e2f5c6ddcadf",
   "metadata": {},
   "outputs": [],
   "source": [
    "import requests\n",
    "from bs4 import BeautifulSoup as BS\n",
    "\n",
    "link = 'https://babycuatoi.vn/xep-hinh-thong-minh'\n",
    "\n",
    "page_conn = requests.get(link)\n",
    "\n",
    "page_content = BS(page_conn.content, 'html.parser')\n",
    "\n",
    "lst_product = page_content.select('[class=\"product tooltip\"]')\n",
    "\n",
    "data = []\n",
    "for index in range(0,len(lst_product)):\n",
    "    name = lst_product[index].select(\"div > div.tooltip-content > p.name\")\n",
    "    price = lst_product[index].select(\"div > div.product-content > div.info > div.box-price > p.price\")\n",
    "    discount = lst_product[index].select(\"div > div.product-content > div.info > div.box-price > p.label\")\n",
    "    if len(discount) != 0:\n",
    "        discount_txt = discount[0].get_text()\n",
    "    else:\n",
    "        discount_txt = '0'\n",
    "        \n",
    "    description = lst_product[index].select(\"div > div.tooltip-content > p.des\")\n",
    "    img = lst_product[index].select(\"div > div.tooltip-content > div.img-hover > img\")\n",
    "    link_img = img[0].attrs['src']\n",
    "    lst = [name[0].get_text(), price[0].get_text(), discount_txt, description[0].getText(), link_img]\n",
    "    data.append(lst)"
   ]
  },
  {
   "cell_type": "code",
   "execution_count": 788,
   "id": "db824dbd-597f-40b1-8514-30ed239ee523",
   "metadata": {},
   "outputs": [
    {
     "data": {
      "text/plain": [
       "[['Bộ bàn ghế xếp hình LEGO đa năng kèm 105 chi tiết xếp hình cỡ lớn UG401-2',\n",
       "  '580.000₫',\n",
       "  '-20%',\n",
       "  '\\n- Thương hiệu: BBT Global\\r\\n- Kích thước bàn: 42x32x35cm, Ghế ngồi: 21x21x38cm\\r\\n- Kích thước hộp đựng: 54x9x43cm\\r\\n- Dành cho bé: 2+\\r\\n- Mặt bàn 2 trong 1, tích hợp mặt bàn chơi lego cho bé\\r\\n- Ngoài ra ba mẹ có thể dùng làm bàn ăn, bàn học và bạn ngồi chơi cho bé (dùng mặt bàn nhẵn)\\r\\n- Màu sắc: kết hợp 3 màu trắng - vàng - xanh vô cùng trang nhã\\r\\n- Trọn bộ gồm: 1 bàn + 1 ghế + 4 hộp chứa đồ + 105 chi tiết xếp hình cỡ lớn\\r\\n- Chất liệu: nhựa nguyên sinh an toàn cho bé\\r\\n- Tiêu chuẩn: hàng cao cấp xuất Châu Âu -CE\\n',\n",
       "  'https://sudospaces.com/babycuatoi/2021/11/ug401-2-ban-ghe-tre-em-kiem-xep-hinh-lego-cho-be-1-medium.jpg'],\n",
       " ['Bộ bàn ghế xếp hình LEGO đa năng kèm 105 chi tiết xếp hình cỡ lớn UG401-1',\n",
       "  '580.000₫',\n",
       "  '-20%',\n",
       "  '\\n- Thương hiệu: BBT Global\\r\\n- Kích thước bàn: 42x32x35cm, Ghế ngồi: 21x21x38cm\\r\\n- Kích thước hộp đựng: 54x9x43cm\\r\\n- Dành cho bé: 2+\\r\\n- Mặt bàn 2 trong 1, tích hợp mặt bàn chơi lego cho bé\\r\\n- Ngoài ra ba mẹ có thể dùng làm bàn ăn, bàn học và bạn ngồi chơi cho bé (dùng mặt bàn nhẵn)\\r\\n- Màu sắc: kết hợp 3 màu trắng - vàng - xanh vô cùng trang nhã\\r\\n- Trọn bộ gồm: 1 bàn + 1 ghế + 4 hộp chứa đồ + 105 chi tiết xếp hình cỡ lớn\\r\\n- Chất liệu: nhựa nguyên sinh an toàn cho bé\\r\\n- Tiêu chuẩn: hàng cao cấp xuất Châu Âu -CE\\n',\n",
       "  'https://sudospaces.com/babycuatoi/2021/11/ug401-1-ban-ghe-tre-em-kiem-xep-hinh-lego-cho-be-medium.jpg'],\n",
       " ['Bộ bàn chơi LEGO đa năng 2 ghế kèm bộ xếp hình 100 chi tiết cỡ lớn 188T-8/188T-9',\n",
       "  '1.100.000₫',\n",
       "  '-20%',\n",
       "  '\\n- Thương hiệu: BBT Global\\r\\n- Kích thước bàn: 61*61*52cm, ghế: 28*28*45cm\\r\\n- Dành cho bé: 1-10 tuổi\\r\\n- Mặt bàn 2 trong 1, tích hợp mặt bàn chơi lego cho bé\\r\\n- Ngoài ra ba mẹ có thể dùng làm bàn ăn, bàn học và bạn ngồi chơi cho bé (dùng mặt bàn nhẵn)\\r\\n- Màu sắc: kết hợp 3 màu trắng - vàng - xanh vô cùng trang nhã\\r\\n- Trọn bộ gồm: 1 bàn + 2 ghế + 4 hộp chứa đồ + 100 chi tiết xếp hình cỡ lớn\\r\\n- Chất liệu: nhựa nguyên sinh an toàn cho bé\\r\\n- Tiêu chuẩn: hàng xuất Châu Âu\\n',\n",
       "  'https://sudospaces.com/babycuatoi/2021/01/188t-8-ban-choi-lego-cho-be-medium.jpg']]"
      ]
     },
     "execution_count": 788,
     "metadata": {},
     "output_type": "execute_result"
    }
   ],
   "source": [
    "data[0:3]"
   ]
  },
  {
   "cell_type": "code",
   "execution_count": 789,
   "id": "d50872aa-d84a-4f2d-8a8e-a632bbb9d816",
   "metadata": {},
   "outputs": [
    {
     "data": {
      "text/html": [
       "<div>\n",
       "<style scoped>\n",
       "    .dataframe tbody tr th:only-of-type {\n",
       "        vertical-align: middle;\n",
       "    }\n",
       "\n",
       "    .dataframe tbody tr th {\n",
       "        vertical-align: top;\n",
       "    }\n",
       "\n",
       "    .dataframe thead th {\n",
       "        text-align: right;\n",
       "    }\n",
       "</style>\n",
       "<table border=\"1\" class=\"dataframe\">\n",
       "  <thead>\n",
       "    <tr style=\"text-align: right;\">\n",
       "      <th></th>\n",
       "      <th>ProductName</th>\n",
       "      <th>Price</th>\n",
       "      <th>Discount</th>\n",
       "      <th>Description</th>\n",
       "      <th>LinkImg</th>\n",
       "    </tr>\n",
       "  </thead>\n",
       "  <tbody>\n",
       "    <tr>\n",
       "      <th>0</th>\n",
       "      <td>Bộ bàn ghế xếp hình LEGO đa năng kèm 105 chi t...</td>\n",
       "      <td>580.000₫</td>\n",
       "      <td>-20%</td>\n",
       "      <td>\\n- Thương hiệu: BBT Global\\r\\n- Kích thước bà...</td>\n",
       "      <td>https://sudospaces.com/babycuatoi/2021/11/ug40...</td>\n",
       "    </tr>\n",
       "    <tr>\n",
       "      <th>1</th>\n",
       "      <td>Bộ bàn ghế xếp hình LEGO đa năng kèm 105 chi t...</td>\n",
       "      <td>580.000₫</td>\n",
       "      <td>-20%</td>\n",
       "      <td>\\n- Thương hiệu: BBT Global\\r\\n- Kích thước bà...</td>\n",
       "      <td>https://sudospaces.com/babycuatoi/2021/11/ug40...</td>\n",
       "    </tr>\n",
       "    <tr>\n",
       "      <th>2</th>\n",
       "      <td>Bộ bàn chơi LEGO đa năng 2 ghế kèm bộ xếp hình...</td>\n",
       "      <td>1.100.000₫</td>\n",
       "      <td>-20%</td>\n",
       "      <td>\\n- Thương hiệu: BBT Global\\r\\n- Kích thước bà...</td>\n",
       "      <td>https://sudospaces.com/babycuatoi/2021/01/188t...</td>\n",
       "    </tr>\n",
       "    <tr>\n",
       "      <th>3</th>\n",
       "      <td>Bộ đồ chơi xếp hình thả bóng thông minh 48 chi...</td>\n",
       "      <td>220.000₫</td>\n",
       "      <td>-20%</td>\n",
       "      <td>\\n✪ Thương hiệu: BBTGlobal \\r\\n✪ Độ tuổi sử dụ...</td>\n",
       "      <td>https://sudospaces.com/babycuatoi/2021/04/6807...</td>\n",
       "    </tr>\n",
       "    <tr>\n",
       "      <th>4</th>\n",
       "      <td>Đồ chơi xếp hình cho bé vườn bách thú thả bóng...</td>\n",
       "      <td>580.000₫</td>\n",
       "      <td>-20%</td>\n",
       "      <td>\\n- Thương hiệu: BBT GLOBAL\\r\\n- Kích thước sa...</td>\n",
       "      <td>https://sudospaces.com/babycuatoi/2021/01/8803...</td>\n",
       "    </tr>\n",
       "  </tbody>\n",
       "</table>\n",
       "</div>"
      ],
      "text/plain": [
       "                                         ProductName       Price Discount  \\\n",
       "0  Bộ bàn ghế xếp hình LEGO đa năng kèm 105 chi t...    580.000₫     -20%   \n",
       "1  Bộ bàn ghế xếp hình LEGO đa năng kèm 105 chi t...    580.000₫     -20%   \n",
       "2  Bộ bàn chơi LEGO đa năng 2 ghế kèm bộ xếp hình...  1.100.000₫     -20%   \n",
       "3  Bộ đồ chơi xếp hình thả bóng thông minh 48 chi...    220.000₫     -20%   \n",
       "4  Đồ chơi xếp hình cho bé vườn bách thú thả bóng...    580.000₫     -20%   \n",
       "\n",
       "                                         Description  \\\n",
       "0  \\n- Thương hiệu: BBT Global\\r\\n- Kích thước bà...   \n",
       "1  \\n- Thương hiệu: BBT Global\\r\\n- Kích thước bà...   \n",
       "2  \\n- Thương hiệu: BBT Global\\r\\n- Kích thước bà...   \n",
       "3  \\n✪ Thương hiệu: BBTGlobal \\r\\n✪ Độ tuổi sử dụ...   \n",
       "4  \\n- Thương hiệu: BBT GLOBAL\\r\\n- Kích thước sa...   \n",
       "\n",
       "                                             LinkImg  \n",
       "0  https://sudospaces.com/babycuatoi/2021/11/ug40...  \n",
       "1  https://sudospaces.com/babycuatoi/2021/11/ug40...  \n",
       "2  https://sudospaces.com/babycuatoi/2021/01/188t...  \n",
       "3  https://sudospaces.com/babycuatoi/2021/04/6807...  \n",
       "4  https://sudospaces.com/babycuatoi/2021/01/8803...  "
      ]
     },
     "execution_count": 789,
     "metadata": {},
     "output_type": "execute_result"
    }
   ],
   "source": [
    "df = pd.DataFrame(data=data, columns=['ProductName','Price','Discount','Description','LinkImg'])\n",
    "df.head()"
   ]
  },
  {
   "cell_type": "code",
   "execution_count": 790,
   "id": "2d392ec9-c18b-4eeb-ad9a-fb430d97a625",
   "metadata": {},
   "outputs": [],
   "source": [
    "df['ImgNameFile'] = df['LinkImg'].map(lambda x: x[x.rfind('/')+1:])\n",
    "\n",
    "def dowload_img(link):\n",
    "    name = link[link.rfind('/')+1:]\n",
    "    path = \"Images/{}\".format(name)\n",
    "    img_conn = requests.get(link)\n",
    "    with open(path, 'wb') as f:\n",
    "        f.write(img_conn.content);\n",
    "\n",
    "df['LinkImg'].map(lambda x: dowload_img(x));"
   ]
  },
  {
   "cell_type": "code",
   "execution_count": 791,
   "id": "29364d52-28e6-4703-a2d8-f03130c1287a",
   "metadata": {},
   "outputs": [
    {
     "data": {
      "text/plain": [
       "str"
      ]
     },
     "execution_count": 791,
     "metadata": {},
     "output_type": "execute_result"
    }
   ],
   "source": [
    "type(a[a.rfind('/')+1:])"
   ]
  },
  {
   "cell_type": "code",
   "execution_count": 792,
   "id": "b585e871-cc0f-495c-a358-9ac14dbc530b",
   "metadata": {},
   "outputs": [],
   "source": [
    "df['Description'] = df['Description'].map(lambda x: x.replace('\\n',''))\n",
    "df['Description'] = df['Description'].map(lambda x: x.replace('\\t',''))\n",
    "df['Description'] = df['Description'].map(lambda x: x.replace('\\r',''))"
   ]
  },
  {
   "cell_type": "code",
   "execution_count": 793,
   "id": "1ff14bc0-314a-4dba-8776-c2b02f45f725",
   "metadata": {},
   "outputs": [
    {
     "data": {
      "text/html": [
       "<div>\n",
       "<style scoped>\n",
       "    .dataframe tbody tr th:only-of-type {\n",
       "        vertical-align: middle;\n",
       "    }\n",
       "\n",
       "    .dataframe tbody tr th {\n",
       "        vertical-align: top;\n",
       "    }\n",
       "\n",
       "    .dataframe thead th {\n",
       "        text-align: right;\n",
       "    }\n",
       "</style>\n",
       "<table border=\"1\" class=\"dataframe\">\n",
       "  <thead>\n",
       "    <tr style=\"text-align: right;\">\n",
       "      <th></th>\n",
       "      <th>ProductName</th>\n",
       "      <th>Price</th>\n",
       "      <th>Discount</th>\n",
       "      <th>Description</th>\n",
       "      <th>LinkImg</th>\n",
       "      <th>ImgNameFile</th>\n",
       "    </tr>\n",
       "  </thead>\n",
       "  <tbody>\n",
       "    <tr>\n",
       "      <th>0</th>\n",
       "      <td>Bộ bàn ghế xếp hình LEGO đa năng kèm 105 chi t...</td>\n",
       "      <td>580.000₫</td>\n",
       "      <td>-20%</td>\n",
       "      <td>- Thương hiệu: BBT Global- Kích thước bàn: 42x...</td>\n",
       "      <td>https://sudospaces.com/babycuatoi/2021/11/ug40...</td>\n",
       "      <td>ug401-2-ban-ghe-tre-em-kiem-xep-hinh-lego-cho-...</td>\n",
       "    </tr>\n",
       "    <tr>\n",
       "      <th>1</th>\n",
       "      <td>Bộ bàn ghế xếp hình LEGO đa năng kèm 105 chi t...</td>\n",
       "      <td>580.000₫</td>\n",
       "      <td>-20%</td>\n",
       "      <td>- Thương hiệu: BBT Global- Kích thước bàn: 42x...</td>\n",
       "      <td>https://sudospaces.com/babycuatoi/2021/11/ug40...</td>\n",
       "      <td>ug401-1-ban-ghe-tre-em-kiem-xep-hinh-lego-cho-...</td>\n",
       "    </tr>\n",
       "    <tr>\n",
       "      <th>2</th>\n",
       "      <td>Bộ bàn chơi LEGO đa năng 2 ghế kèm bộ xếp hình...</td>\n",
       "      <td>1.100.000₫</td>\n",
       "      <td>-20%</td>\n",
       "      <td>- Thương hiệu: BBT Global- Kích thước bàn: 61*...</td>\n",
       "      <td>https://sudospaces.com/babycuatoi/2021/01/188t...</td>\n",
       "      <td>188t-8-ban-choi-lego-cho-be-medium.jpg</td>\n",
       "    </tr>\n",
       "    <tr>\n",
       "      <th>3</th>\n",
       "      <td>Bộ đồ chơi xếp hình thả bóng thông minh 48 chi...</td>\n",
       "      <td>220.000₫</td>\n",
       "      <td>-20%</td>\n",
       "      <td>✪ Thương hiệu: BBTGlobal ✪ Độ tuổi sử dụng: 3+...</td>\n",
       "      <td>https://sudospaces.com/babycuatoi/2021/04/6807...</td>\n",
       "      <td>68078-do-choi-xep-hinh-tha-bong-cho-be-10-medi...</td>\n",
       "    </tr>\n",
       "    <tr>\n",
       "      <th>4</th>\n",
       "      <td>Đồ chơi xếp hình cho bé vườn bách thú thả bóng...</td>\n",
       "      <td>580.000₫</td>\n",
       "      <td>-20%</td>\n",
       "      <td>- Thương hiệu: BBT GLOBAL- Kích thước sau khi ...</td>\n",
       "      <td>https://sudospaces.com/babycuatoi/2021/01/8803...</td>\n",
       "      <td>8803c-do-choi-xep-hinh-cho-be-medium.jpg</td>\n",
       "    </tr>\n",
       "  </tbody>\n",
       "</table>\n",
       "</div>"
      ],
      "text/plain": [
       "                                         ProductName       Price Discount  \\\n",
       "0  Bộ bàn ghế xếp hình LEGO đa năng kèm 105 chi t...    580.000₫     -20%   \n",
       "1  Bộ bàn ghế xếp hình LEGO đa năng kèm 105 chi t...    580.000₫     -20%   \n",
       "2  Bộ bàn chơi LEGO đa năng 2 ghế kèm bộ xếp hình...  1.100.000₫     -20%   \n",
       "3  Bộ đồ chơi xếp hình thả bóng thông minh 48 chi...    220.000₫     -20%   \n",
       "4  Đồ chơi xếp hình cho bé vườn bách thú thả bóng...    580.000₫     -20%   \n",
       "\n",
       "                                         Description  \\\n",
       "0  - Thương hiệu: BBT Global- Kích thước bàn: 42x...   \n",
       "1  - Thương hiệu: BBT Global- Kích thước bàn: 42x...   \n",
       "2  - Thương hiệu: BBT Global- Kích thước bàn: 61*...   \n",
       "3  ✪ Thương hiệu: BBTGlobal ✪ Độ tuổi sử dụng: 3+...   \n",
       "4  - Thương hiệu: BBT GLOBAL- Kích thước sau khi ...   \n",
       "\n",
       "                                             LinkImg  \\\n",
       "0  https://sudospaces.com/babycuatoi/2021/11/ug40...   \n",
       "1  https://sudospaces.com/babycuatoi/2021/11/ug40...   \n",
       "2  https://sudospaces.com/babycuatoi/2021/01/188t...   \n",
       "3  https://sudospaces.com/babycuatoi/2021/04/6807...   \n",
       "4  https://sudospaces.com/babycuatoi/2021/01/8803...   \n",
       "\n",
       "                                         ImgNameFile  \n",
       "0  ug401-2-ban-ghe-tre-em-kiem-xep-hinh-lego-cho-...  \n",
       "1  ug401-1-ban-ghe-tre-em-kiem-xep-hinh-lego-cho-...  \n",
       "2             188t-8-ban-choi-lego-cho-be-medium.jpg  \n",
       "3  68078-do-choi-xep-hinh-tha-bong-cho-be-10-medi...  \n",
       "4           8803c-do-choi-xep-hinh-cho-be-medium.jpg  "
      ]
     },
     "execution_count": 793,
     "metadata": {},
     "output_type": "execute_result"
    }
   ],
   "source": [
    "df.head()"
   ]
  },
  {
   "cell_type": "code",
   "execution_count": 794,
   "id": "a9907163-748b-4e6c-a240-1bb1380a6cd2",
   "metadata": {},
   "outputs": [],
   "source": [
    "df[\"Price\"] = df[\"Price\"].str[:-1]\n",
    "df[\"Price\"] = df[\"Price\"].str.replace(\".\", \"\", regex = True)\n",
    "df[\"Price\"] = df[\"Price\"].astype(float)"
   ]
  },
  {
   "cell_type": "code",
   "execution_count": 795,
   "id": "6dc186f0-e109-4c84-ad4e-eab39f0c534c",
   "metadata": {},
   "outputs": [
    {
     "data": {
      "text/plain": [
       "ProductName     object\n",
       "Price          float64\n",
       "Discount       float64\n",
       "Description     object\n",
       "LinkImg         object\n",
       "ImgNameFile     object\n",
       "dtype: object"
      ]
     },
     "execution_count": 795,
     "metadata": {},
     "output_type": "execute_result"
    }
   ],
   "source": [
    "df[\"Discount\"] = df[\"Discount\"].str.rstrip(\"%\").astype(float)/100\n",
    "df.dtypes"
   ]
  },
  {
   "cell_type": "code",
   "execution_count": 796,
   "id": "a75d6467-6d4b-4187-af45-dec39120fd9b",
   "metadata": {},
   "outputs": [
    {
     "data": {
      "text/html": [
       "<div>\n",
       "<style scoped>\n",
       "    .dataframe tbody tr th:only-of-type {\n",
       "        vertical-align: middle;\n",
       "    }\n",
       "\n",
       "    .dataframe tbody tr th {\n",
       "        vertical-align: top;\n",
       "    }\n",
       "\n",
       "    .dataframe thead th {\n",
       "        text-align: right;\n",
       "    }\n",
       "</style>\n",
       "<table border=\"1\" class=\"dataframe\">\n",
       "  <thead>\n",
       "    <tr style=\"text-align: right;\">\n",
       "      <th></th>\n",
       "      <th>ProductName</th>\n",
       "      <th>Price</th>\n",
       "      <th>Discount</th>\n",
       "      <th>Description</th>\n",
       "      <th>LinkImg</th>\n",
       "      <th>ImgNameFile</th>\n",
       "    </tr>\n",
       "  </thead>\n",
       "  <tbody>\n",
       "    <tr>\n",
       "      <th>0</th>\n",
       "      <td>Bộ bàn ghế xếp hình LEGO đa năng kèm 105 chi t...</td>\n",
       "      <td>580000.0</td>\n",
       "      <td>-0.2</td>\n",
       "      <td>- Thương hiệu: BBT Global- Kích thước bàn: 42x...</td>\n",
       "      <td>https://sudospaces.com/babycuatoi/2021/11/ug40...</td>\n",
       "      <td>ug401-2-ban-ghe-tre-em-kiem-xep-hinh-lego-cho-...</td>\n",
       "    </tr>\n",
       "    <tr>\n",
       "      <th>1</th>\n",
       "      <td>Bộ bàn ghế xếp hình LEGO đa năng kèm 105 chi t...</td>\n",
       "      <td>580000.0</td>\n",
       "      <td>-0.2</td>\n",
       "      <td>- Thương hiệu: BBT Global- Kích thước bàn: 42x...</td>\n",
       "      <td>https://sudospaces.com/babycuatoi/2021/11/ug40...</td>\n",
       "      <td>ug401-1-ban-ghe-tre-em-kiem-xep-hinh-lego-cho-...</td>\n",
       "    </tr>\n",
       "    <tr>\n",
       "      <th>2</th>\n",
       "      <td>Bộ bàn chơi LEGO đa năng 2 ghế kèm bộ xếp hình...</td>\n",
       "      <td>1100000.0</td>\n",
       "      <td>-0.2</td>\n",
       "      <td>- Thương hiệu: BBT Global- Kích thước bàn: 61*...</td>\n",
       "      <td>https://sudospaces.com/babycuatoi/2021/01/188t...</td>\n",
       "      <td>188t-8-ban-choi-lego-cho-be-medium.jpg</td>\n",
       "    </tr>\n",
       "    <tr>\n",
       "      <th>3</th>\n",
       "      <td>Bộ đồ chơi xếp hình thả bóng thông minh 48 chi...</td>\n",
       "      <td>220000.0</td>\n",
       "      <td>-0.2</td>\n",
       "      <td>✪ Thương hiệu: BBTGlobal ✪ Độ tuổi sử dụng: 3+...</td>\n",
       "      <td>https://sudospaces.com/babycuatoi/2021/04/6807...</td>\n",
       "      <td>68078-do-choi-xep-hinh-tha-bong-cho-be-10-medi...</td>\n",
       "    </tr>\n",
       "    <tr>\n",
       "      <th>4</th>\n",
       "      <td>Đồ chơi xếp hình cho bé vườn bách thú thả bóng...</td>\n",
       "      <td>580000.0</td>\n",
       "      <td>-0.2</td>\n",
       "      <td>- Thương hiệu: BBT GLOBAL- Kích thước sau khi ...</td>\n",
       "      <td>https://sudospaces.com/babycuatoi/2021/01/8803...</td>\n",
       "      <td>8803c-do-choi-xep-hinh-cho-be-medium.jpg</td>\n",
       "    </tr>\n",
       "  </tbody>\n",
       "</table>\n",
       "</div>"
      ],
      "text/plain": [
       "                                         ProductName      Price  Discount  \\\n",
       "0  Bộ bàn ghế xếp hình LEGO đa năng kèm 105 chi t...   580000.0      -0.2   \n",
       "1  Bộ bàn ghế xếp hình LEGO đa năng kèm 105 chi t...   580000.0      -0.2   \n",
       "2  Bộ bàn chơi LEGO đa năng 2 ghế kèm bộ xếp hình...  1100000.0      -0.2   \n",
       "3  Bộ đồ chơi xếp hình thả bóng thông minh 48 chi...   220000.0      -0.2   \n",
       "4  Đồ chơi xếp hình cho bé vườn bách thú thả bóng...   580000.0      -0.2   \n",
       "\n",
       "                                         Description  \\\n",
       "0  - Thương hiệu: BBT Global- Kích thước bàn: 42x...   \n",
       "1  - Thương hiệu: BBT Global- Kích thước bàn: 42x...   \n",
       "2  - Thương hiệu: BBT Global- Kích thước bàn: 61*...   \n",
       "3  ✪ Thương hiệu: BBTGlobal ✪ Độ tuổi sử dụng: 3+...   \n",
       "4  - Thương hiệu: BBT GLOBAL- Kích thước sau khi ...   \n",
       "\n",
       "                                             LinkImg  \\\n",
       "0  https://sudospaces.com/babycuatoi/2021/11/ug40...   \n",
       "1  https://sudospaces.com/babycuatoi/2021/11/ug40...   \n",
       "2  https://sudospaces.com/babycuatoi/2021/01/188t...   \n",
       "3  https://sudospaces.com/babycuatoi/2021/04/6807...   \n",
       "4  https://sudospaces.com/babycuatoi/2021/01/8803...   \n",
       "\n",
       "                                         ImgNameFile  \n",
       "0  ug401-2-ban-ghe-tre-em-kiem-xep-hinh-lego-cho-...  \n",
       "1  ug401-1-ban-ghe-tre-em-kiem-xep-hinh-lego-cho-...  \n",
       "2             188t-8-ban-choi-lego-cho-be-medium.jpg  \n",
       "3  68078-do-choi-xep-hinh-tha-bong-cho-be-10-medi...  \n",
       "4           8803c-do-choi-xep-hinh-cho-be-medium.jpg  "
      ]
     },
     "execution_count": 796,
     "metadata": {},
     "output_type": "execute_result"
    }
   ],
   "source": [
    "df.head()"
   ]
  },
  {
   "cell_type": "code",
   "execution_count": 797,
   "id": "2b0b3b2e-2bbe-4e66-9367-c2bb6b8d06db",
   "metadata": {},
   "outputs": [],
   "source": [
    "df.to_csv('Products.csv', index=False, encoding='utf-8-sig')"
   ]
  },
  {
   "cell_type": "code",
   "execution_count": null,
   "id": "0010bb35-7467-4b8d-927e-86939e7293c4",
   "metadata": {},
   "outputs": [],
   "source": []
  }
 ],
 "metadata": {
  "kernelspec": {
   "display_name": "Python 3 (ipykernel)",
   "language": "python",
   "name": "python3"
  },
  "language_info": {
   "codemirror_mode": {
    "name": "ipython",
    "version": 3
   },
   "file_extension": ".py",
   "mimetype": "text/x-python",
   "name": "python",
   "nbconvert_exporter": "python",
   "pygments_lexer": "ipython3",
   "version": "3.9.13"
  }
 },
 "nbformat": 4,
 "nbformat_minor": 5
}
